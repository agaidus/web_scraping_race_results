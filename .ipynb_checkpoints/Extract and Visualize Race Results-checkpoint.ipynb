{
 "cells": [
  {
   "cell_type": "markdown",
   "metadata": {},
   "source": [
    "# Scraping, Wrangling, Visualizing, and Modeling Race Results\n",
    "\n",
    "I enjoyed this post a lot, mainly because I found the data really fun to play with. It started as a way to demonstrate how to scrape HTML data from a website, but then I decided that it would also be useful to dig a bit deeper with the data do a bit of for wrangling, visualizing, and modeling. \n",
    "\n",
    "This post follows the steps of a typical data science project - obtaining raw data, cleaning data, exploratory analysis, visualization, and modeling. It also provides a good way to demonstrate some really useful Python packages for each of these steps.\n",
    "\n",
    "The data that I use are the [2015](http://www.empirerunners.com/results/empireopen/eo15.html) and [2016](http://www.empirerunners.com/results/empireopen/eo16.html) results from the Empire Open Cross Country Meet - a 3.43 mile race that my running club hosts every year in Santa Rosa. The data has all of the typical information you'd expect to find in race results - team, age, gender, time, etc. \n",
    "\n",
    "This post can be broken up into the following topics:\n",
    "\n",
    "1. **Web scraping** - use the ```BeautifulSoup``` Python library to scrape HTML data from a website\n",
    "\n",
    "2. **Data cleaning and wrangling** - use ```Pandas``` grouping operations to reshape data into a more usable form and generate stats that compare team performances across years\n",
    "\n",
    "3. **Data visualization** - use ```Matplotlib``` and its wrapper ```seaborn``` to generate plots that help visualize these comparisons\n",
    "\n",
    "4. **Modeling** - use ```Statsmodels``` to built a basic regression model that can be used to control for age and gender when comparing times.\n",
    "\n",
    "\n",
    "A Jupyter notebook with all of my code plus more details can be downloaded here (or viewed in HTML format here). It can also be found on my GitHub along with the data I used."
   ]
  },
  {
   "cell_type": "code",
   "execution_count": 2,
   "metadata": {
    "collapsed": false
   },
   "outputs": [],
   "source": [
    "#Import necessary Python modules\n",
    "\n",
    "from bs4 import BeautifulSoup\n",
    "import urllib2\n",
    "import pandas as pd\n",
    "from datetime import datetime, timedelta\n",
    "import seaborn as sns\n",
    "import matplotlib.pylab as plt\n",
    "from matplotlib.cm import get_cmap\n",
    "import numpy as np\n",
    "%matplotlib inline"
   ]
  },
  {
   "cell_type": "markdown",
   "metadata": {},
   "source": [
    "## 1 - Web scraping with ```BeautifulSoup```\n",
    "\n",
    "Beautiful Soup is a Python library for parsing data out of HTML and XML files. It constructs a parse tree based on the HTML tags and provides a really easy way to navigate, search, and extract data based on these tags. \n",
    "\n",
    "Below, I specify the URL paths for each of the two years of data. For now, I'm going to parse only the 2015 results just as a way of demonstrating how to extract the data from HTML. I use ```urllib2``` to read in the website URL as a string of HTML code, and then I pass this string to ```BeautifulSoup``` to be parsed."
   ]
  },
  {
   "cell_type": "code",
   "execution_count": 3,
   "metadata": {
    "collapsed": false
   },
   "outputs": [],
   "source": [
    "years = [2015, 2016]\n",
    "urls = ['http://www.empirerunners.com/results/empireopen/eo{}.html'.format(str(y)[2:]) for y in years]\n",
    "                                                                                                                                                   \n",
    "                                                                           \n",
    "html = urllib2.urlopen(urls[0]).read()\n",
    "soup = BeautifulSoup(html, 'html.parser')"
   ]
  },
  {
   "cell_type": "markdown",
   "metadata": {},
   "source": [
    "Below is a screenshot of the website that shows the data that I'm interesting in parsing. As you can see, there is a table structure that contains the race results.\n",
    "\n",
    "![title](website_screenshot.png)\n",
    "\n",
    "\n",
    "Now, that I have passed the HTML code to ```BeautifulSoup``` I can call for specific tag objects to extract relevant data. I search for and print the 'title' tag below."
   ]
  },
  {
   "cell_type": "code",
   "execution_count": 4,
   "metadata": {
    "collapsed": false
   },
   "outputs": [
    {
     "name": "stdout",
     "output_type": "stream",
     "text": [
      "<title>Phil Widener Empire Open 2015</title>\n"
     ]
    }
   ],
   "source": [
    "print soup.find('title')"
   ]
  },
  {
   "cell_type": "markdown",
   "metadata": {},
   "source": [
    "However, what I'm most interested in is the table that contains the results. First I use \"find_all\" to look for all elements with the \"table\" tag and confirm that there is only one table on the website."
   ]
  },
  {
   "cell_type": "code",
   "execution_count": 5,
   "metadata": {
    "collapsed": false
   },
   "outputs": [
    {
     "name": "stdout",
     "output_type": "stream",
     "text": [
      "1\n"
     ]
    }
   ],
   "source": [
    "print len(soup.find_all('table'))"
   ]
  },
  {
   "cell_type": "markdown",
   "metadata": {},
   "source": [
    "Then I go ahead and extract the html code corresponding to the table and print it (part of it), using the ```prettify``` method which gives a better visual representation of the tree structure. The important things to note are the ```<td>``` and ```<tr>``` tags. ```<tr>``` is used to identify each row within a table and ```<td>``` identifies each cell whtin each row. As you can see the ```<td>``` tag always is nested within the ```<tr>``` tag. Knowing this structure allows us to parse apart the data elements.\n"
   ]
  },
  {
   "cell_type": "code",
   "execution_count": 6,
   "metadata": {
    "collapsed": false
   },
   "outputs": [
    {
     "name": "stdout",
     "output_type": "stream",
     "text": [
      "<table border=\"0\" cellpadding=\"0\" cellspacing=\"0\" class=\"racetable\">\n",
      " <tr>\n",
      "  <td class=\"h01\" colspan=\"9\">\n",
      "   <h3>\n",
      "    Women's Race\n",
      "   </h3>\n",
      "  </td>\n",
      " </tr>\n",
      " <tr>\n",
      "  <td class=\"h11\">\n",
      "   Place\n",
      "  </td>\n",
      "  <td class=\"h12\">\n",
      "   Name\n",
      "  </td>\n",
      "  <td class=\"h12\">\n",
      "   Team\n",
      "  </td>\n",
      "  <td class=\"h11\">\n",
      "   Bib No\n",
      "  </td>\n",
      "  <td class=\"h11\">\n",
      "   Age\n",
      "  </td>\n",
      "  <td class=\"h11\">\n",
      "   Gender\n",
      "  </td>\n",
      "  <td class=\"h11\">\n",
      "   Age Group\n",
      "  </td>\n",
      "  <td class=\"h11\">\n",
      "   Total Time\n",
      "  </td>\n",
      "  <td class=\"h11\">\n",
      "   Pace\n",
      "  </td>\n",
      " </tr>\n",
      " <tr>\n",
      "  <td class=\"d01\">\n",
      "   1\n",
      "  </td>\n",
      "  <td class=\"d02\">\n",
      "   Alexandra Sciocchetti\n",
      "  </td>\n",
      "  <td class=\"d02\">\n",
      "   UNATTACHED\n",
      "  </td>\n",
      "  <td class=\"d01\">\n",
      "   189\n",
      "  </td>\n",
      "  <td class=\"d01\">\n",
      "   20\n",
      "  </td>\n",
      "  <td class=\"d01\">\n",
      "   F\n",
      "  </td>\n",
      "  <td class=\"d01\">\n",
      "   \n"
     ]
    }
   ],
   "source": [
    "table = soup.find('table')\n",
    "print table.prettify()[:750]"
   ]
  },
  {
   "cell_type": "markdown",
   "metadata": {},
   "source": [
    "Using a nested list comprehension along with the BeautifulSoup search tags, I can extract the data from the table in one line of code! I find all of the table rows by searching for the ```<tr>``` tag with the command ```table.find_all('tr')```. I find the cell values for each cell within each row by searching for the ```<td>``` tag using ```row.find_all('td')```. I extract only the text identified by these tags and use the ```strip()``` method to get rid of white space. The result is a nested list of all of the table data elements. "
   ]
  },
  {
   "cell_type": "code",
   "execution_count": 7,
   "metadata": {
    "collapsed": false
   },
   "outputs": [
    {
     "data": {
      "text/plain": [
       "[[u\"Women's Race\"],\n",
       " [u'Place',\n",
       "  u'Name',\n",
       "  u'Team',\n",
       "  u'Bib No',\n",
       "  u'Age',\n",
       "  u'Gender',\n",
       "  u'Age Group',\n",
       "  u'Total Time',\n",
       "  u'Pace'],\n",
       " [u'1',\n",
       "  u'Alexandra Sciocchetti',\n",
       "  u'UNATTACHED',\n",
       "  u'189',\n",
       "  u'20',\n",
       "  u'F',\n",
       "  u'1/48 13-39',\n",
       "  u'20:20',\n",
       "  u'5:55/M'],\n",
       " [u'2',\n",
       "  u'Tamma Carleton',\n",
       "  u'Strawberry Canyon TC',\n",
       "  u'114',\n",
       "  u'27',\n",
       "  u'F',\n",
       "  u'2/48 13-39',\n",
       "  u'20:23',\n",
       "  u'5:56/M']]"
      ]
     },
     "execution_count": 7,
     "metadata": {},
     "output_type": "execute_result"
    }
   ],
   "source": [
    "raw_data = [[cell_value.text.strip() for cell_value in row.find_all('td')] for row in table.find_all('tr')]\n",
    "raw_data[:4]"
   ]
  },
  {
   "cell_type": "markdown",
   "metadata": {},
   "source": [
    "However, there are a few aspects of this table that will need to be cleaned before we are ready to use the data. First, you'll notice that the first element of the list is a list is the table title. It will also appear later in the data for the \"Men's Race\". Then, the second element of the list is the table header. For some reason, this header also re-appears as a row in the data every 100 rows. Nonetheless, all of this is easy to filter out. Below I clean the data and then read it into a dataframe."
   ]
  },
  {
   "cell_type": "code",
   "execution_count": 34,
   "metadata": {
    "collapsed": false
   },
   "outputs": [
    {
     "name": "stdout",
     "output_type": "stream",
     "text": [
      "  Place                   Name                    Team Bib No Age Gender  \\\n",
      "0     1  Alexandra Sciocchetti              UNATTACHED    189  20      F   \n",
      "1     2         Tamma Carleton    Strawberry Canyon TC    114  27      F   \n",
      "2     3            Julia Sizek    Strawberry Canyon TC    191  24      F   \n",
      "3     4         Michele Palmer      Impala Racing Team    174  33      F   \n",
      "4     5    Stephanie MacKenzie  West Valley Track Club    160  39      F   \n",
      "\n",
      "    Age Group Total Time    Pace  \n",
      "0  1/48 13-39      20:20  5:55/M  \n",
      "1  2/48 13-39      20:23  5:56/M  \n",
      "2  3/48 13-39      20:26  5:57/M  \n",
      "3  4/48 13-39      20:39  6:01/M  \n",
      "4  5/48 13-39      20:43  6:02/M  \n"
     ]
    }
   ],
   "source": [
    "#Identify the header as the first row that has a length of 9 (excludes the title)\n",
    "header = [row for row in raw_data if len(row) == 9][0]\n",
    "\n",
    "#Loop through each row and only append those rows that are not table titles (length<>9) or table headers\n",
    "cleaned_data =[]\n",
    "for row in raw_data:\n",
    "    if row <> header and len(row) == 9:\n",
    "        cleaned_data.append(row)\n",
    "        \n",
    "print pd.DataFrame(data = cleaned_data, columns = header).head()"
   ]
  },
  {
   "cell_type": "markdown",
   "metadata": {},
   "source": [
    "Now that I understand the structure of the data, I am ready to loop through each of the two years; process the data and then combine them into a dataframe. To make things easier, I first write a function that takes the data from ```BeautifulSoup``` and cleans it, taking the steps shown above."
   ]
  },
  {
   "cell_type": "code",
   "execution_count": 18,
   "metadata": {
    "collapsed": true
   },
   "outputs": [],
   "source": [
    "def parse_results_table(url):\n",
    "    html = urllib2.urlopen(url).read()\n",
    "    soup = BeautifulSoup(html, 'html.parser')\n",
    "    table = soup.find('table')\n",
    "    raw_data = [[cell_value.text.strip() for cell_value in row.find_all('td')] for row in table.find_all('tr')]\n",
    "    \n",
    "    header = [row for row in raw_data if len(row) == 9][0]\n",
    "\n",
    "    cleaned_data =[]\n",
    "    for row in raw_data:\n",
    "        if row <> header and len(row) == 9:\n",
    "            cleaned_data.append(row)\n",
    "\n",
    "    return pd.DataFrame(data = cleaned_data, columns = header)"
   ]
  },
  {
   "cell_type": "code",
   "execution_count": 26,
   "metadata": {
    "collapsed": false
   },
   "outputs": [],
   "source": [
    "df = pd.DataFrame()\n",
    "for year, url in zip(years, urls):\n",
    "    d = parse_results_table(url)\n",
    "    d['Year']=year\n",
    "    df = df.append(d)"
   ]
  },
  {
   "cell_type": "markdown",
   "metadata": {},
   "source": [
    "Now there are just a few small cleaning steps and I'm ready to analyze the data. A key field in this analysis will be the \"Total Time\" field which is currently represented as a string. I write a function to convert this string to a ```timedelta``` object and then also calculate the time in minutes as a ```float``` (this will be useful for some of the plotting functions I do later). Lastly, I sort the values by Time and export the dataset."
   ]
  },
  {
   "cell_type": "code",
   "execution_count": 33,
   "metadata": {
    "collapsed": false
   },
   "outputs": [
    {
     "name": "stdout",
     "output_type": "stream",
     "text": [
      "   Place              Name                    Team  Bib No  Age Gender  \\\n",
      "0      1      Isaac Chavez     Aggies Running Club     414   24      M   \n",
      "1      2  Malcolm Richards  West Valley Track Club     306   32      M   \n",
      "2      1    Trevor Halsted              UNATTACHED     701   23      M   \n",
      "3      2  Malcolm Richards  West Valley Track Club     623   33      M   \n",
      "4      3  Alfonso Cisneros     Aggies Running Club     413   23      M   \n",
      "\n",
      "    Age Group Total Time    Pace  Year     Time    Minutes  \n",
      "0  1/52 16-99      16:51  4:54/M  2015 00:16:51  16.850000  \n",
      "1  2/52 16-99      16:56  4:56/M  2015 00:16:56  16.933333  \n",
      "2     1 16-99      16:56  4:56/M  2016 00:16:56  16.933333  \n",
      "3     2 16-99      17:05  4:59/M  2016 00:17:05  17.083333  \n",
      "4  3/52 16-99      17:07  4:59/M  2015 00:17:07  17.116667  \n"
     ]
    }
   ],
   "source": [
    "def convert_date_string_to_datetime(time_string):\n",
    "    t=datetime.strptime(time_string, \"%M:%S\")\n",
    "    delta = timedelta(minutes=t.minute, seconds=t.second)\n",
    "    return delta\n",
    "\n",
    "df['Time']= df['Total Time'].apply(convert_date_string_to_datetime)\n",
    "df['Minutes'] = df['Time'].dt.seconds/60\n",
    "df[['Place' ,'Age', 'Bib No']] = df[['Place' ,'Age', 'Bib No']].astype(int)\n",
    "df = df.sort_values(by = 'Time').reset_index(drop=True)\n",
    "\n",
    "df.to_pickle('cleaned_race_results.p')\n",
    "print df.head()"
   ]
  },
  {
   "cell_type": "code",
   "execution_count": 23,
   "metadata": {
    "collapsed": false
   },
   "outputs": [
    {
     "name": "stdout",
     "output_type": "stream",
     "text": [
      "   Place              Name                    Team  Bib No  Age Gender  \\\n",
      "0      1      Isaac Chavez     Aggies Running Club     414   24      M   \n",
      "1      2  Malcolm Richards  West Valley Track Club     306   32      M   \n",
      "2      1    Trevor Halsted              UNATTACHED     701   23      M   \n",
      "3      2  Malcolm Richards  West Valley Track Club     623   33      M   \n",
      "4      3  Alfonso Cisneros     Aggies Running Club     413   23      M   \n",
      "\n",
      "    Age Group Total Time    Pace  Year     Time    Minutes  \n",
      "0  1/52 16-99      16:51  4:54/M  2015 00:16:51  16.850000  \n",
      "1  2/52 16-99      16:56  4:56/M  2015 00:16:56  16.933333  \n",
      "2     1 16-99      16:56  4:56/M  2016 00:16:56  16.933333  \n",
      "3     2 16-99      17:05  4:59/M  2016 00:17:05  17.083333  \n",
      "4  3/52 16-99      17:07  4:59/M  2015 00:17:07  17.116667  \n"
     ]
    }
   ],
   "source": [
    "\n",
    "print df[:5]"
   ]
  },
  {
   "cell_type": "markdown",
   "metadata": {},
   "source": [
    "Get top average times by gender and year"
   ]
  },
  {
   "cell_type": "markdown",
   "metadata": {},
   "source": [
    "Get average times by year, team and gender using pandas crosstab. Then use that to get the top teams in each year for male and female.\n",
    "\n",
    ".nlargest(2)"
   ]
  },
  {
   "cell_type": "code",
   "execution_count": 12,
   "metadata": {
    "collapsed": false
   },
   "outputs": [
    {
     "data": {
      "text/plain": [
       "Gender  Year\n",
       "F       2015     7\n",
       "        2016     8\n",
       "M       2015    11\n",
       "        2016     8\n",
       "Name: Team, dtype: int64"
      ]
     },
     "execution_count": 12,
     "metadata": {},
     "output_type": "execute_result"
    }
   ],
   "source": [
    "#find out which people are on a full team\n",
    "group_cols = ['Team','Gender','Year']\n",
    "full_team = (df.groupby(group_cols)['Name'].transform('size')>=5) & (df.Team<>'UNATTACHED')\n",
    "\n",
    "#get the times of the top 5 in each team, year, gender in cases where there are at least 5\n",
    "top5 = df[full_team].groupby(group_cols)['Time'].nsmallest(5).reset_index()\n",
    "\n",
    "#number of complete teams in each year\n",
    "top5.groupby(['Gender','Year'])['Team'].apply(lambda x:len(x.unique()))"
   ]
  },
  {
   "cell_type": "code",
   "execution_count": 13,
   "metadata": {
    "collapsed": false
   },
   "outputs": [
    {
     "data": {
      "text/html": [
       "<div>\n",
       "<table border=\"1\" class=\"dataframe\">\n",
       "  <thead>\n",
       "    <tr>\n",
       "      <th></th>\n",
       "      <th colspan=\"2\" halign=\"left\">F</th>\n",
       "      <th colspan=\"2\" halign=\"left\">M</th>\n",
       "    </tr>\n",
       "    <tr>\n",
       "      <th></th>\n",
       "      <th>2015</th>\n",
       "      <th>2016</th>\n",
       "      <th>2015</th>\n",
       "      <th>2016</th>\n",
       "    </tr>\n",
       "  </thead>\n",
       "  <tbody>\n",
       "    <tr>\n",
       "      <th>West Valley Track Club</th>\n",
       "      <td>NaT</td>\n",
       "      <td>NaT</td>\n",
       "      <td>00:17:51.200000</td>\n",
       "      <td>00:17:37.200000</td>\n",
       "    </tr>\n",
       "    <tr>\n",
       "      <th>West Valley Joggers &amp; Striders</th>\n",
       "      <td>NaT</td>\n",
       "      <td>NaT</td>\n",
       "      <td>00:19:51.200000</td>\n",
       "      <td>NaT</td>\n",
       "    </tr>\n",
       "    <tr>\n",
       "      <th>Tamalpa Runners</th>\n",
       "      <td>00:23:33.400000</td>\n",
       "      <td>00:28:01.800000</td>\n",
       "      <td>00:20:46.200000</td>\n",
       "      <td>00:21:15.200000</td>\n",
       "    </tr>\n",
       "    <tr>\n",
       "      <th>Strawberry Canyon TC</th>\n",
       "      <td>00:21:03.400000</td>\n",
       "      <td>00:22:16.200000</td>\n",
       "      <td>00:18:07.600000</td>\n",
       "      <td>00:17:56.200000</td>\n",
       "    </tr>\n",
       "    <tr>\n",
       "      <th>Pamakids</th>\n",
       "      <td>00:23:19.800000</td>\n",
       "      <td>00:24:24.800000</td>\n",
       "      <td>00:21:11.800000</td>\n",
       "      <td>00:22:39.600000</td>\n",
       "    </tr>\n",
       "    <tr>\n",
       "      <th>Lake Merritt Joggers and Striders</th>\n",
       "      <td>00:26:09</td>\n",
       "      <td>00:26:03</td>\n",
       "      <td>NaT</td>\n",
       "      <td>NaT</td>\n",
       "    </tr>\n",
       "    <tr>\n",
       "      <th>Impala Racing Team</th>\n",
       "      <td>00:21:51.400000</td>\n",
       "      <td>00:21:41</td>\n",
       "      <td>NaT</td>\n",
       "      <td>NaT</td>\n",
       "    </tr>\n",
       "    <tr>\n",
       "      <th>Humboldt Track Club</th>\n",
       "      <td>NaT</td>\n",
       "      <td>NaT</td>\n",
       "      <td>00:22:04</td>\n",
       "      <td>NaT</td>\n",
       "    </tr>\n",
       "    <tr>\n",
       "      <th>Golden Valley Harriers</th>\n",
       "      <td>00:22:53.800000</td>\n",
       "      <td>00:24:22.800000</td>\n",
       "      <td>00:20:39.600000</td>\n",
       "      <td>00:19:44.800000</td>\n",
       "    </tr>\n",
       "    <tr>\n",
       "      <th>Excelsior Running Club</th>\n",
       "      <td>NaT</td>\n",
       "      <td>NaT</td>\n",
       "      <td>00:18:59.600000</td>\n",
       "      <td>00:20:00.400000</td>\n",
       "    </tr>\n",
       "    <tr>\n",
       "      <th>Empire Runners Club</th>\n",
       "      <td>00:23:27.400000</td>\n",
       "      <td>00:23:03.600000</td>\n",
       "      <td>00:19:45.400000</td>\n",
       "      <td>00:19:16.200000</td>\n",
       "    </tr>\n",
       "    <tr>\n",
       "      <th>Buffalo Chips</th>\n",
       "      <td>NaT</td>\n",
       "      <td>00:27:01.200000</td>\n",
       "      <td>00:29:06.800000</td>\n",
       "      <td>00:25:28.200000</td>\n",
       "    </tr>\n",
       "    <tr>\n",
       "      <th>Aggies Running Club</th>\n",
       "      <td>NaT</td>\n",
       "      <td>NaT</td>\n",
       "      <td>00:17:37.600000</td>\n",
       "      <td>NaT</td>\n",
       "    </tr>\n",
       "  </tbody>\n",
       "</table>\n",
       "</div>"
      ],
      "text/plain": [
       "                                                F                  \\\n",
       "                                             2015            2016   \n",
       "West Valley Track Club                        NaT             NaT   \n",
       "West Valley Joggers & Striders                NaT             NaT   \n",
       "Tamalpa Runners                   00:23:33.400000 00:28:01.800000   \n",
       "Strawberry Canyon TC              00:21:03.400000 00:22:16.200000   \n",
       "Pamakids                          00:23:19.800000 00:24:24.800000   \n",
       "Lake Merritt Joggers and Striders        00:26:09        00:26:03   \n",
       "Impala Racing Team                00:21:51.400000        00:21:41   \n",
       "Humboldt Track Club                           NaT             NaT   \n",
       "Golden Valley Harriers            00:22:53.800000 00:24:22.800000   \n",
       "Excelsior Running Club                        NaT             NaT   \n",
       "Empire Runners Club               00:23:27.400000 00:23:03.600000   \n",
       "Buffalo Chips                                 NaT 00:27:01.200000   \n",
       "Aggies Running Club                           NaT             NaT   \n",
       "\n",
       "                                                M                  \n",
       "                                             2015            2016  \n",
       "West Valley Track Club            00:17:51.200000 00:17:37.200000  \n",
       "West Valley Joggers & Striders    00:19:51.200000             NaT  \n",
       "Tamalpa Runners                   00:20:46.200000 00:21:15.200000  \n",
       "Strawberry Canyon TC              00:18:07.600000 00:17:56.200000  \n",
       "Pamakids                          00:21:11.800000 00:22:39.600000  \n",
       "Lake Merritt Joggers and Striders             NaT             NaT  \n",
       "Impala Racing Team                            NaT             NaT  \n",
       "Humboldt Track Club                      00:22:04             NaT  \n",
       "Golden Valley Harriers            00:20:39.600000 00:19:44.800000  \n",
       "Excelsior Running Club            00:18:59.600000 00:20:00.400000  \n",
       "Empire Runners Club               00:19:45.400000 00:19:16.200000  \n",
       "Buffalo Chips                     00:29:06.800000 00:25:28.200000  \n",
       "Aggies Running Club               00:17:37.600000             NaT  "
      ]
     },
     "execution_count": 13,
     "metadata": {},
     "output_type": "execute_result"
    }
   ],
   "source": [
    "#get average times by year and gender for each team\n",
    "avg_times = pd.crosstab(top5.Team, [top5.Gender, top5.Year], values = top5.Time, aggfunc=lambda x:x.sum()/float(len(x)))\n",
    "avg_times.columns.names=[None,None]\n",
    "avg_times.index.names=[None]\n",
    "avg_times=avg_times.sort_index(ascending=False)\n",
    "avg_times"
   ]
  },
  {
   "cell_type": "code",
   "execution_count": 14,
   "metadata": {
    "collapsed": false
   },
   "outputs": [
    {
     "data": {
      "text/html": [
       "<div>\n",
       "<table border=\"1\" class=\"dataframe\">\n",
       "  <thead>\n",
       "    <tr>\n",
       "      <th></th>\n",
       "      <th colspan=\"2\" halign=\"left\">F</th>\n",
       "      <th colspan=\"2\" halign=\"left\">M</th>\n",
       "    </tr>\n",
       "    <tr>\n",
       "      <th></th>\n",
       "      <th>2015</th>\n",
       "      <th>2016</th>\n",
       "      <th>2015</th>\n",
       "      <th>2016</th>\n",
       "    </tr>\n",
       "  </thead>\n",
       "  <tbody>\n",
       "    <tr>\n",
       "      <th>West Valley Track Club</th>\n",
       "      <td>Strawberry Canyon TC</td>\n",
       "      <td>Impala Racing Team</td>\n",
       "      <td>Aggies Running Club</td>\n",
       "      <td>West Valley Track Club</td>\n",
       "    </tr>\n",
       "    <tr>\n",
       "      <th>West Valley Joggers &amp; Striders</th>\n",
       "      <td>Impala Racing Team</td>\n",
       "      <td>Strawberry Canyon TC</td>\n",
       "      <td>West Valley Track Club</td>\n",
       "      <td>Strawberry Canyon TC</td>\n",
       "    </tr>\n",
       "    <tr>\n",
       "      <th>Tamalpa Runners</th>\n",
       "      <td>Golden Valley Harriers</td>\n",
       "      <td>Empire Runners Club</td>\n",
       "      <td>Strawberry Canyon TC</td>\n",
       "      <td>Empire Runners Club</td>\n",
       "    </tr>\n",
       "    <tr>\n",
       "      <th>Strawberry Canyon TC</th>\n",
       "      <td>Pamakids</td>\n",
       "      <td>Golden Valley Harriers</td>\n",
       "      <td>Excelsior Running Club</td>\n",
       "      <td>Golden Valley Harriers</td>\n",
       "    </tr>\n",
       "    <tr>\n",
       "      <th>Pamakids</th>\n",
       "      <td>Empire Runners Club</td>\n",
       "      <td>Pamakids</td>\n",
       "      <td>Empire Runners Club</td>\n",
       "      <td>Excelsior Running Club</td>\n",
       "    </tr>\n",
       "    <tr>\n",
       "      <th>Lake Merritt Joggers and Striders</th>\n",
       "      <td>Tamalpa Runners</td>\n",
       "      <td>Lake Merritt Joggers and Striders</td>\n",
       "      <td>West Valley Joggers &amp; Striders</td>\n",
       "      <td>Tamalpa Runners</td>\n",
       "    </tr>\n",
       "    <tr>\n",
       "      <th>Impala Racing Team</th>\n",
       "      <td>Lake Merritt Joggers and Striders</td>\n",
       "      <td>Buffalo Chips</td>\n",
       "      <td>Golden Valley Harriers</td>\n",
       "      <td>Pamakids</td>\n",
       "    </tr>\n",
       "    <tr>\n",
       "      <th>Humboldt Track Club</th>\n",
       "      <td></td>\n",
       "      <td>Tamalpa Runners</td>\n",
       "      <td>Tamalpa Runners</td>\n",
       "      <td>Buffalo Chips</td>\n",
       "    </tr>\n",
       "    <tr>\n",
       "      <th>Golden Valley Harriers</th>\n",
       "      <td></td>\n",
       "      <td></td>\n",
       "      <td>Pamakids</td>\n",
       "      <td></td>\n",
       "    </tr>\n",
       "    <tr>\n",
       "      <th>Excelsior Running Club</th>\n",
       "      <td></td>\n",
       "      <td></td>\n",
       "      <td>Humboldt Track Club</td>\n",
       "      <td></td>\n",
       "    </tr>\n",
       "    <tr>\n",
       "      <th>Empire Runners Club</th>\n",
       "      <td></td>\n",
       "      <td></td>\n",
       "      <td>Buffalo Chips</td>\n",
       "      <td></td>\n",
       "    </tr>\n",
       "    <tr>\n",
       "      <th>Buffalo Chips</th>\n",
       "      <td></td>\n",
       "      <td></td>\n",
       "      <td></td>\n",
       "      <td></td>\n",
       "    </tr>\n",
       "    <tr>\n",
       "      <th>Aggies Running Club</th>\n",
       "      <td></td>\n",
       "      <td></td>\n",
       "      <td></td>\n",
       "      <td></td>\n",
       "    </tr>\n",
       "  </tbody>\n",
       "</table>\n",
       "</div>"
      ],
      "text/plain": [
       "                                                                   F  \\\n",
       "                                                                2015   \n",
       "West Valley Track Club                          Strawberry Canyon TC   \n",
       "West Valley Joggers & Striders                    Impala Racing Team   \n",
       "Tamalpa Runners                               Golden Valley Harriers   \n",
       "Strawberry Canyon TC                                        Pamakids   \n",
       "Pamakids                                         Empire Runners Club   \n",
       "Lake Merritt Joggers and Striders                    Tamalpa Runners   \n",
       "Impala Racing Team                 Lake Merritt Joggers and Striders   \n",
       "Humboldt Track Club                                                    \n",
       "Golden Valley Harriers                                                 \n",
       "Excelsior Running Club                                                 \n",
       "Empire Runners Club                                                    \n",
       "Buffalo Chips                                                          \n",
       "Aggies Running Club                                                    \n",
       "\n",
       "                                                                      \\\n",
       "                                                                2016   \n",
       "West Valley Track Club                            Impala Racing Team   \n",
       "West Valley Joggers & Striders                  Strawberry Canyon TC   \n",
       "Tamalpa Runners                                  Empire Runners Club   \n",
       "Strawberry Canyon TC                          Golden Valley Harriers   \n",
       "Pamakids                                                    Pamakids   \n",
       "Lake Merritt Joggers and Striders  Lake Merritt Joggers and Striders   \n",
       "Impala Racing Team                                     Buffalo Chips   \n",
       "Humboldt Track Club                                  Tamalpa Runners   \n",
       "Golden Valley Harriers                                                 \n",
       "Excelsior Running Club                                                 \n",
       "Empire Runners Club                                                    \n",
       "Buffalo Chips                                                          \n",
       "Aggies Running Club                                                    \n",
       "\n",
       "                                                                M  \\\n",
       "                                                             2015   \n",
       "West Valley Track Club                        Aggies Running Club   \n",
       "West Valley Joggers & Striders             West Valley Track Club   \n",
       "Tamalpa Runners                              Strawberry Canyon TC   \n",
       "Strawberry Canyon TC                       Excelsior Running Club   \n",
       "Pamakids                                      Empire Runners Club   \n",
       "Lake Merritt Joggers and Striders  West Valley Joggers & Striders   \n",
       "Impala Racing Team                         Golden Valley Harriers   \n",
       "Humboldt Track Club                               Tamalpa Runners   \n",
       "Golden Valley Harriers                                   Pamakids   \n",
       "Excelsior Running Club                        Humboldt Track Club   \n",
       "Empire Runners Club                                 Buffalo Chips   \n",
       "Buffalo Chips                                                       \n",
       "Aggies Running Club                                                 \n",
       "\n",
       "                                                           \n",
       "                                                     2016  \n",
       "West Valley Track Club             West Valley Track Club  \n",
       "West Valley Joggers & Striders       Strawberry Canyon TC  \n",
       "Tamalpa Runners                       Empire Runners Club  \n",
       "Strawberry Canyon TC               Golden Valley Harriers  \n",
       "Pamakids                           Excelsior Running Club  \n",
       "Lake Merritt Joggers and Striders         Tamalpa Runners  \n",
       "Impala Racing Team                               Pamakids  \n",
       "Humboldt Track Club                         Buffalo Chips  \n",
       "Golden Valley Harriers                                     \n",
       "Excelsior Running Club                                     \n",
       "Empire Runners Club                                        \n",
       "Buffalo Chips                                              \n",
       "Aggies Running Club                                        "
      ]
     },
     "execution_count": 14,
     "metadata": {},
     "output_type": "execute_result"
    }
   ],
   "source": [
    "team_rankings = avg_times.apply(lambda x:x.dt.seconds).apply(lambda x: x.index.where(x.notnull(), '')[x.values.argsort()])\n",
    "team_rankings"
   ]
  },
  {
   "cell_type": "code",
   "execution_count": 21,
   "metadata": {
    "collapsed": false
   },
   "outputs": [
    {
     "name": "stdout",
     "output_type": "stream",
     "text": [
      "(u'Tamalpa Runners', u'F')\n"
     ]
    }
   ],
   "source": [
    "team_time_compare = avg_times.stack(level=0).dropna()\n",
    "seconds_faster = (team_time_compare[2016].dt.seconds - team_time_compare[2015].dt.seconds).sort_values(ascending=False)\n",
    "print seconds_faster.idxmax()\n",
    "#team_time_compare.reindex(seconds_faster.index)\n",
    "#seconds_faster = (team_time_compare[2016] - team_time_compare[2015]).sort_values(ascending=False)"
   ]
  },
  {
   "cell_type": "code",
   "execution_count": 22,
   "metadata": {
    "collapsed": false
   },
   "outputs": [
    {
     "data": {
      "text/plain": [
       "<matplotlib.text.Text at 0xe51eb90>"
      ]
     },
     "execution_count": 22,
     "metadata": {},
     "output_type": "execute_result"
    },
    {
     "data": {
      "image/png": "[encoded data removed]",
      "text/plain": [
       "<matplotlib.figure.Figure at 0xe50a510>"
      ]
     },
     "metadata": {},
     "output_type": "display_data"
    }
   ],
   "source": [
    "cmap = get_cmap('RdBu')\n",
    "norm_data = 1-(seconds_faster-seconds_faster.min())/(seconds_faster.max()-seconds_faster.min())\n",
    "colors = [cmap(pct) for pct in norm_data]\n",
    "\n",
    "fig, ax = plt.subplots(figsize=(10,8))    \n",
    "seconds_faster.plot(kind='bar', ax=ax, fontsize=14, color=colors, width=1)\n",
    "ax.set_title('Empire Open Team Average Time Differences 2015 - 2016',fontsize=18)\n",
    "ax.set_ylabel('Seconds Faster in 2016', fontsize=18)\n"
   ]
  },
  {
   "cell_type": "markdown",
   "metadata": {},
   "source": [
    "Plot age by time for each gender to observe the relationship"
   ]
  },
  {
   "cell_type": "code",
   "execution_count": 23,
   "metadata": {
    "collapsed": false
   },
   "outputs": [
    {
     "data": {
      "text/plain": [
       "<seaborn.axisgrid.FacetGrid at 0xe310410>"
      ]
     },
     "execution_count": 23,
     "metadata": {},
     "output_type": "execute_result"
    },
    {
     "data": {
      "image/png": "[encoded data removed]",
      "text/plain": [
       "<matplotlib.figure.Figure at 0xe310a90>"
      ]
     },
     "metadata": {},
     "output_type": "display_data"
    }
   ],
   "source": [
    "sns.lmplot('Age', 'Minutes', data=df, hue='Gender', order=2, palette='dark', col='Year')\n",
    "#t=plt.title('Empire Open 5K: Results by Age and Gender', size=12)\n"
   ]
  },
  {
   "cell_type": "code",
   "execution_count": 24,
   "metadata": {
    "collapsed": false
   },
   "outputs": [
    {
     "name": "stdout",
     "output_type": "stream",
     "text": [
      "                            OLS Regression Results                            \n",
      "==============================================================================\n",
      "Dep. Variable:                Minutes   R-squared:                       0.560\n",
      "Model:                            OLS   Adj. R-squared:                  0.557\n",
      "Method:                 Least Squares   F-statistic:                     172.4\n",
      "Date:                Wed, 22 Mar 2017   Prob (F-statistic):           3.69e-95\n",
      "Time:                        12:27:36   Log-Likelihood:                -1408.5\n",
      "No. Observations:                 547   AIC:                             2827.\n",
      "Df Residuals:                     542   BIC:                             2848.\n",
      "Df Model:                           4                                         \n",
      "Covariance Type:            nonrobust                                         \n",
      "===================================================================================\n",
      "                      coef    std err          t      P>|t|      [95.0% Conf. Int.]\n",
      "-----------------------------------------------------------------------------------\n",
      "Intercept          30.3114      0.970     31.264      0.000        28.407    32.216\n",
      "C(Gender)[T.M]     -3.8807      0.278    -13.953      0.000        -4.427    -3.334\n",
      "C(Year)[T.2016]     0.1722      0.274      0.628      0.530        -0.367     0.711\n",
      "Age                -0.4188      0.045     -9.346      0.000        -0.507    -0.331\n",
      "I(Age ** 2)         0.0068      0.001     13.452      0.000         0.006     0.008\n",
      "==============================================================================\n",
      "Omnibus:                      165.883   Durbin-Watson:                   1.173\n",
      "Prob(Omnibus):                  0.000   Jarque-Bera (JB):              491.159\n",
      "Skew:                           1.456   Prob(JB):                    2.22e-107\n",
      "Kurtosis:                       6.616   Cond. No.                     1.85e+04\n",
      "==============================================================================\n",
      "\n",
      "Warnings:\n",
      "[1] Standard Errors assume that the covariance matrix of the errors is correctly specified.\n",
      "[2] The condition number is large, 1.85e+04. This might indicate that there are\n",
      "strong multicollinearity or other numerical problems.\n"
     ]
    }
   ],
   "source": [
    "import statsmodels.formula.api as smf\n",
    "model = smf.ols(formula = 'Minutes ~ Age + I(Age**2) + C(Gender) + C(Year)', data = df).fit()\n",
    "print model.summary()"
   ]
  },
  {
   "cell_type": "code",
   "execution_count": 25,
   "metadata": {
    "collapsed": false
   },
   "outputs": [
    {
     "data": {
      "text/plain": [
       "array([ 21.26052302])"
      ]
     },
     "execution_count": 25,
     "metadata": {},
     "output_type": "execute_result"
    }
   ],
   "source": [
    "#model.predict({'Age':40, 'Gender':'F'})\n",
    "\n",
    "model.predict({'Age':18, 'Gender':'M', 'Year':2016})\n"
   ]
  },
  {
   "cell_type": "code",
   "execution_count": 26,
   "metadata": {
    "collapsed": false
   },
   "outputs": [],
   "source": [
    "\n",
    "res=pd.Series(model.resid,name='Residuals')"
   ]
  },
  {
   "cell_type": "code",
   "execution_count": 27,
   "metadata": {
    "collapsed": false
   },
   "outputs": [
    {
     "name": "stdout",
     "output_type": "stream",
     "text": [
      "             Name  Age Gender     Time\n",
      "286   Len Goldman   71      M 00:24:08\n",
      "482  Tony Alvarez   80      M 00:29:52\n",
      "304   Len Goldman   70      M 00:24:20\n",
      "290    Mo Bartley   60      F 00:24:11\n",
      "504   Bill Dodson   81      M 00:31:49\n"
     ]
    }
   ],
   "source": [
    "#Top 5 performances controlling for age and gender\n",
    "print df.join(res).sort_values(by='Residuals')[['Name', 'Age', 'Gender', 'Time']][:5]"
   ]
  },
  {
   "cell_type": "code",
   "execution_count": 28,
   "metadata": {
    "collapsed": false
   },
   "outputs": [
    {
     "name": "stdout",
     "output_type": "stream",
     "text": [
      "Team                    Gender\n",
      "Tamalpa Runners         M        -21.456713\n",
      "Impala Racing Team      F        -19.757007\n",
      "West Valley Track Club  M        -14.611984\n",
      "Name: 2016, dtype: float64\n"
     ]
    }
   ],
   "source": [
    "top5_resid = df[full_team].join(res).groupby(['Team','Gender','Year'])['Residuals'].nsmallest(5).reset_index()\n",
    "best_teams = top5_resid.groupby(['Team','Gender','Year'])['Residuals'].sum().unstack()[2016].sort_values()\n",
    "print best_teams[:3]"
   ]
  },
  {
   "cell_type": "code",
   "execution_count": 29,
   "metadata": {
    "collapsed": false
   },
   "outputs": [
    {
     "data": {
      "text/plain": [
       "(u'Tamalpa Runners', u'M')"
      ]
     },
     "execution_count": 29,
     "metadata": {},
     "output_type": "execute_result"
    }
   ],
   "source": [
    "best_teams.idxmin()"
   ]
  },
  {
   "cell_type": "code",
   "execution_count": 30,
   "metadata": {
    "collapsed": false
   },
   "outputs": [
    {
     "name": "stdout",
     "output_type": "stream",
     "text": [
      "   Age Gender     Time\n",
      "0   38      M 00:20:03\n",
      "1   47      M 00:20:20\n",
      "2   52      M 00:20:22\n",
      "3   51      M 00:20:23\n",
      "4   44      M 00:20:44\n"
     ]
    },
    {
     "name": "stderr",
     "output_type": "stream",
     "text": [
      "C:\\Anaconda2\\lib\\site-packages\\ipykernel\\__main__.py:2: PerformanceWarning: indexing past lexsort depth may impact performance.\n",
      "  from ipykernel import kernelapp as app\n"
     ]
    }
   ],
   "source": [
    "df16=df[df.Year==2016]\n",
    "print df.set_index(['Team','Gender']).loc[best_teams.idxmin()].reset_index()[:5][['Age','Gender','Time']]\n",
    "\n",
    "#df.set_index(group_cols).loc[best_teams.idxmin()]"
   ]
  },
  {
   "cell_type": "markdown",
   "metadata": {},
   "source": [
    "Beautiful Soup is a Python library for pulling data out of HTML and XML files. It works with your favorite parser to provide idiomatic ways of navigating, searching, and modifying the parse tree. It commonly saves programmers hours or days of work.\n",
    "\n",
    "These instructions illustrate all major features of Beautiful Soup 4, with examples. I show you what the library is good for, how it works, how to use it, how to make it do what you want, and what to do when it violates your expectations.\n",
    "\n",
    "The examples in this documentation should work the same way in Python 2.7 and Python 3.2.\n",
    "\n",
    "You might be looking for the documentation for Beautiful Soup 3. If so, you should know that Beautiful Soup 3 is no longer being developed, and that Beautiful Soup 4 is recommended for all new projects. If you want to learn about the differences between Beautiful Soup 3 and Beautiful Soup 4, see Porting code to BS4.\n",
    "\n",
    "This documentation has been translated into other languages by Beautiful Soup users:\n",
    "\n",
    "\n",
    "\n",
    "http://savvastjortjoglou.com/nba-draft-part01-scraping.html"
   ]
  }
 ],
 "metadata": {
  "anaconda-cloud": {},
  "kernelspec": {
   "display_name": "Python 2",
   "language": "python",
   "name": "python2"
  },
  "language_info": {
   "codemirror_mode": {
    "name": "ipython",
    "version": 2
   },
   "file_extension": ".py",
   "mimetype": "text/x-python",
   "name": "python",
   "nbconvert_exporter": "python",
   "pygments_lexer": "ipython2",
   "version": "2.7.13"
  }
 },
 "nbformat": 4,
 "nbformat_minor": 0
}
